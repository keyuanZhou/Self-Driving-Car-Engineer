{
 "cells": [
  {
   "cell_type": "code",
   "execution_count": 1,
   "metadata": {
    "collapsed": true
   },
   "outputs": [],
   "source": [
    "import csv\n",
    "import cv2\n",
    "import numpy as np"
   ]
  },
  {
   "cell_type": "code",
   "execution_count": 2,
   "metadata": {},
   "outputs": [
    {
     "name": "stdout",
     "output_type": "stream",
     "text": [
      "done\n"
     ]
    }
   ],
   "source": [
    "lines = []\n",
    "\n",
    "with open('data/driving_log.csv') as csvfile:\n",
    "    reader = csv.reader(csvfile)\n",
    "    for line in reader:\n",
    "        lines.append(line)\n",
    "\n",
    "lines = lines[1:]\n",
    "\n",
    "print('done')"
   ]
  },
  {
   "cell_type": "code",
   "execution_count": 3,
   "metadata": {},
   "outputs": [
    {
     "name": "stdout",
     "output_type": "stream",
     "text": [
      "done\n"
     ]
    }
   ],
   "source": [
    "images = []\n",
    "measurements = []\n",
    "correction = 0.2\n",
    "\n",
    "for line in lines:\n",
    "    measurement = float(line[3]) # steering angle\n",
    "    # center\n",
    "    source_path = line[0]\n",
    "    filename = source_path.split('/')[-1]\n",
    "    originalImage = cv2.imread('data/IMG/' + filename)\n",
    "    image = cv2.cvtColor(originalImage, cv2.COLOR_BGR2RGB)\n",
    "    images.append(image)\n",
    "    measurements.append(measurement)\n",
    "    # left\n",
    "    source_path = line[1]\n",
    "    filename = source_path.split('/')[-1]\n",
    "    originalImage = cv2.imread('data/IMG/' + filename)\n",
    "    image = cv2.cvtColor(originalImage, cv2.COLOR_BGR2RGB)\n",
    "    images.append(image)\n",
    "    measurements.append(measurement + correction)\n",
    "    # right\n",
    "    source_path = line[2]\n",
    "    filename = source_path.split('/')[-1]\n",
    "    originalImage = cv2.imread('data/IMG/' + filename)\n",
    "    image = cv2.cvtColor(originalImage, cv2.COLOR_BGR2RGB)\n",
    "    images.append(image)\n",
    "    measurements.append(measurement - correction)\n",
    "    \n",
    "print('done')"
   ]
  },
  {
   "cell_type": "code",
   "execution_count": 4,
   "metadata": {},
   "outputs": [
    {
     "name": "stdout",
     "output_type": "stream",
     "text": [
      "48216\n",
      "48216\n",
      "done\n"
     ]
    }
   ],
   "source": [
    "augmented_images = []\n",
    "augmented_measurements = []\n",
    "\n",
    "for image, measurement in zip(images, measurements):\n",
    "    augmented_images.append(image)\n",
    "    augmented_measurements.append(measurement)\n",
    "    augmented_images.append(cv2.flip(image,1))\n",
    "    augmented_measurements.append(measurement*(-1.0))\n",
    "    \n",
    "X_train = np.array(augmented_images)\n",
    "y_train = np.array(augmented_measurements)\n",
    "\n",
    "print(len(X_train))\n",
    "print(len(y_train))\n",
    "print('done')"
   ]
  },
  {
   "cell_type": "code",
   "execution_count": 11,
   "metadata": {},
   "outputs": [
    {
     "name": "stderr",
     "output_type": "stream",
     "text": [
      "C:\\Users\\54738\\Anaconda3\\envs\\carnd-term1\\lib\\site-packages\\ipykernel_launcher.py:10: UserWarning: Update your `Conv2D` call to the Keras 2 API: `Conv2D(24, (5, 5), activation=\"relu\", strides=(2, 2))`\n",
      "  # Remove the CWD from sys.path while we load stuff.\n",
      "C:\\Users\\54738\\Anaconda3\\envs\\carnd-term1\\lib\\site-packages\\ipykernel_launcher.py:12: UserWarning: Update your `Conv2D` call to the Keras 2 API: `Conv2D(48, (5, 5), activation=\"relu\", strides=(2, 2))`\n",
      "  if sys.path[0] == '':\n",
      "C:\\Users\\54738\\Anaconda3\\envs\\carnd-term1\\lib\\site-packages\\ipykernel_launcher.py:13: UserWarning: Update your `Conv2D` call to the Keras 2 API: `Conv2D(64, (3, 3), activation=\"relu\")`\n",
      "  del sys.path[0]\n",
      "C:\\Users\\54738\\Anaconda3\\envs\\carnd-term1\\lib\\site-packages\\keras\\models.py:942: UserWarning: The `nb_epoch` argument in `fit` has been renamed `epochs`.\n",
      "  warnings.warn('The `nb_epoch` argument in `fit` '\n"
     ]
    },
    {
     "name": "stdout",
     "output_type": "stream",
     "text": [
      "Train on 38572 samples, validate on 9644 samples\n",
      "Epoch 1/5\n",
      "38572/38572 [==============================] - 874s 23ms/step - loss: 0.1239 - val_loss: 0.0198\n",
      "Epoch 2/5\n",
      "38572/38572 [==============================] - 868s 22ms/step - loss: 0.0196 - val_loss: 0.0194\n",
      "Epoch 3/5\n",
      "38572/38572 [==============================] - 875s 23ms/step - loss: 0.0179 - val_loss: 0.0188\n",
      "Epoch 4/5\n",
      "38572/38572 [==============================] - 869s 23ms/step - loss: 0.0167 - val_loss: 0.0218\n",
      "Epoch 5/5\n",
      "38572/38572 [==============================] - 864s 22ms/step - loss: 0.0157 - val_loss: 0.0191\n",
      "done\n"
     ]
    }
   ],
   "source": [
    "from keras.models import Sequential\n",
    "from keras.layers import Flatten, Dense, Lambda, Cropping2D, Dropout\n",
    "from keras.layers.convolutional import Convolution2D\n",
    "from keras.layers.pooling import MaxPooling2D\n",
    "\n",
    "\n",
    "model = Sequential()\n",
    "model.add(Lambda(lambda x: (x / 255.0) - 0.5, input_shape=(160, 320, 3))) # set up lambda layer\n",
    "model.add(Cropping2D(cropping=((50,25),(0,0))))\n",
    "model.add(Convolution2D(24,5,5, subsample=(2,2), activation='relu'))\n",
    "# model.add(Convolution2D(36,5,5, subsample=(2,2), activation='relu'))\n",
    "model.add(Convolution2D(48,5,5, subsample=(2,2), activation='relu'))\n",
    "model.add(Convolution2D(64,3,3, activation='relu'))\n",
    "# model.add(Convolution2D(64,3,3, activation='relu'))\n",
    "model.add(Flatten())\n",
    "model.add(Dense(100))\n",
    "model.add(Dropout(0.5, noise_shape=None, seed=None))\n",
    "model.add(Dense(50))\n",
    "model.add(Dropout(0.5, noise_shape=None, seed=None))\n",
    "model.add(Dense(10))\n",
    "model.add(Dense(1))\n",
    "\n",
    "model.compile(loss='mse', optimizer='adam')\n",
    "saved_model = model.fit(X_train, y_train, validation_split=0.2, shuffle=True, nb_epoch=5)\n",
    "\n",
    "model.save('model.h5')\n",
    "\n",
    "print('done')"
   ]
  },
  {
   "cell_type": "code",
   "execution_count": 2,
   "metadata": {},
   "outputs": [
    {
     "data": {
      "image/png": "[encoded data removed]",
      "text/plain": [
       "<matplotlib.figure.Figure at 0x2a9e9295a20>"
      ]
     },
     "metadata": {},
     "output_type": "display_data"
    }
   ],
   "source": [
    "# from keras.models import Model\n",
    "import matplotlib.pyplot as plt\n",
    "\n",
    "loss = [0.1239, 0.0196, 0.0179, 0.0167, 0.0157]\n",
    "val_loss = [0.0198, 0.0194, 0.0188, 0.0218, 0.0191]\n",
    "\n",
    "### plot the training and validation loss for each epoch\n",
    "plt.plot([1, 2, 3, 4, 5], loss)\n",
    "plt.plot([1, 2, 3, 4, 5], val_loss)\n",
    "# plt.plot(saved_model.history['loss'])\n",
    "# plt.plot(saved_model.history['val_loss'])\n",
    "plt.title('model mean squared error loss')\n",
    "plt.ylabel('mean squared error loss')\n",
    "plt.xlabel('epoch')\n",
    "plt.legend(['training set', 'validation set'], loc='upper right')\n",
    "plt.show()"
   ]
  },
  {
   "cell_type": "code",
   "execution_count": null,
   "metadata": {
    "collapsed": true
   },
   "outputs": [],
   "source": []
  }
 ],
 "metadata": {
  "kernelspec": {
   "display_name": "Python 3",
   "language": "python",
   "name": "python3"
  },
  "language_info": {
   "codemirror_mode": {
    "name": "ipython",
    "version": 3
   },
   "file_extension": ".py",
   "mimetype": "text/x-python",
   "name": "python",
   "nbconvert_exporter": "python",
   "pygments_lexer": "ipython3",
   "version": "3.6.3"
  },
  "widgets": {
   "state": {},
   "version": "1.1.2"
  }
 },
 "nbformat": 4,
 "nbformat_minor": 2
}
